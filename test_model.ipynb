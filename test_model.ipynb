{
 "cells": [
  {
   "cell_type": "code",
   "execution_count": 2,
   "metadata": {},
   "outputs": [],
   "source": [
    "import cv2\n",
    "import pytesseract\n",
    "import time\n",
    "import numpy as np\n",
    "from PIL import Image,ImageDraw\n",
    "import pyautogui\n",
    "import py.variable as v\n",
    "import py.map as m\n",
    "import py.dofus_action as da\n",
    "import socket\n",
    "import sys\n",
    "from pathlib import Path\n",
    "import models.predict as predict\n",
    "\n"
   ]
  },
  {
   "cell_type": "code",
   "execution_count": 3,
   "metadata": {},
   "outputs": [],
   "source": [
    "#model_all_r = \"models/model_r_800/model.pb\"\n",
    "#label_all_r = \"models/model_r_800/labels.txt\"\n",
    "\n",
    "#model_poisson = \"models/model_poisson/model.pb\"\n",
    "#label_poisson = \"models/model_poisson/labels.txt\"\n",
    "model_bois = \"models/model_bois_i3/model.pb\"\n",
    "label_bois = \"models/model_bois_i3/labels.txt\"\n",
    "model_poisson = \"models/model_poisson_i15/model.pb\"\n",
    "label_poisson = \"models/model_poisson_i15/labels.txt\"\n",
    "model = \"models/model_all_i9/model.pb\"\n",
    "label = \"models/model_all_i9/labels.txt\"\n",
    "\n",
    "model_monstre9 = \"models/model_monster_i9/model.pb\"\n",
    "label_monstre9 = \"models/model_monster_i9/labels.txt\"\n",
    "model_monstre10 = \"models/model_monster_i10/model.pb\"\n",
    "label_monstre10 = \"models/model_monster_i10/labels.txt\"\n",
    "od_model_poisson = predict.load_model(MODEL_FILENAME = model_poisson,LABELS_FILENAME = label_poisson)\n",
    "od_model_bois = predict.load_model(MODEL_FILENAME = model_bois, LABELS_FILENAME = label_bois)\n",
    "od_model = predict.load_model(MODEL_FILENAME = model, LABELS_FILENAME = label)\n",
    "od_model_monstre9 = predict.load_model(MODEL_FILENAME = model_monstre9,LABELS_FILENAME = label_monstre9)\n",
    "od_model_monstre10 = predict.load_model(MODEL_FILENAME = model_monstre10, LABELS_FILENAME = label_monstre10)"
   ]
  },
  {
   "cell_type": "code",
   "execution_count": 17,
   "metadata": {},
   "outputs": [],
   "source": [
    "image = Image.open(Path(r\"D:\\Users\\Document D\\project_dofus\\dataset\\test\\test_1e.png\"))"
   ]
  },
  {
   "cell_type": "code",
   "execution_count": 18,
   "metadata": {},
   "outputs": [],
   "source": [
    "\n",
    "predictions_monster = od_model_monstre10.predict_image(image)\n",
    "predictions_ressource = od_model.predict_image(image)\n",
    "w,h = image.size"
   ]
  },
  {
   "cell_type": "code",
   "execution_count": 19,
   "metadata": {},
   "outputs": [],
   "source": [
    "click = da.predictions_to_click(predictions_ressource,w,h,proba_poisson=0.3,proba_plante=0.2,proba_bois=0.3)\n"
   ]
  },
  {
   "cell_type": "code",
   "execution_count": 6,
   "metadata": {},
   "outputs": [],
   "source": [
    "#image = Image.open(Path(r\"D:\\Users\\Document D\\project_dofus\\dataset\\test\\test_1e.png\")) \n",
    "\n",
    "for image in Path(r\"D:\\Users\\Document D\\project_dofus\\dataset\\test\").glob(\"*.png\") :\n",
    "    predictions_monster = od_model_monstre10.predict_image(image)\n",
    "    predictions_ressource = od_model.predict_image(image)\n",
    "    w,h = image.size\n",
    "\n",
    "    img = ImageDraw.Draw(image)\n",
    "    boudingBoxes_monster = [x[\"boundingBox\"] for x in predictions_ressource if x[\"probability\"]>0.3]\n",
    "    for boxes in boudingBoxes_monster : \n",
    "        x1,y1 = boxes[0] * w ,boxes[1] * h,\n",
    "        x2,y2 = x1 + boxes[2] * w , y1 + boxes[3] * h\n",
    "        img.rectangle([(x1,y1),(x2,y2)],  outline =\"blue\")\n",
    "        \n",
    "    boudingBoxes_monster = [x[\"boundingBox\"] for x in predictions_monster if x[\"probability\"]>0.4]\n",
    "    for boxes in boudingBoxes_monster : \n",
    "        x1,y1 = boxes[0] * w ,boxes[1] * h,\n",
    "        x2,y2 = x1 + boxes[2] * w , y1 + boxes[3] * h\n",
    "        img.rectangle([(x1,y1),(x2,y2)],  outline =\"red\")\n",
    "    \n",
    "    input(\"attendre\")\n",
    "    image.show()"
   ]
  },
  {
   "cell_type": "code",
   "execution_count": 9,
   "metadata": {},
   "outputs": [],
   "source": [
    "\n",
    "img = ImageDraw.Draw(image_jeu)\n",
    "\n",
    "for boxes in boudingBoxes : \n",
    "    x1,y1 = boxes[0] * w ,boxes[1] * h,\n",
    "    x2,y2 = x1 + boxes[2] * w , y1 + boxes[3] * h\n",
    "    img.rectangle([(x1,y1),(x2,y2)],  outline =\"red\")\n",
    "\n",
    "\n",
    "image_jeu.show()"
   ]
  },
  {
   "cell_type": "code",
   "execution_count": 30,
   "metadata": {},
   "outputs": [],
   "source": [
    "#image = Image.open(Path(\"D:\\Users\\Document D\\project_dofus\\dataset\\ressource\")) \n",
    " # detection des IA ressources\n",
    "#predictions_bois = od_model_bois.predict_image(image)\n",
    "#predictions_poisson = od_model_poisson.predict_image(image)\n",
    "        \n",
    "# liste des zones boxes des ressources\n",
    "#boudingBoxes_poisson = da.list_predictions_boundingBox(predictions_poisson,0.3) # liste des zones boxes des ressources\n",
    "#boudingBoxes_bois = da.list_predictions_boundingBox(predictions_bois,0.4)\n",
    "\n",
    "w,h = image.size\n",
    "\n",
    "        #save map for retrain  od_model\n",
    "#da.save_map(image,\"bois\",predictions_bois)\n",
    "#da.save_map(image,\"poisson\",predictions_poisson)\n",
    "        \n",
    "#concat all list boxes\n",
    "#boudingBoxes = boudingBoxes_poisson + boudingBoxes_bois"
   ]
  },
  {
   "cell_type": "code",
   "execution_count": 8,
   "metadata": {},
   "outputs": [],
   "source": [
    "img1 = ImageDraw.Draw(img)  \n",
    "img1.rectangle(shape, fill =\"# ffff33\", outline =\"red\")\n",
    "img.show()"
   ]
  },
  {
   "cell_type": "code",
   "execution_count": 29,
   "metadata": {},
   "outputs": [],
   "source": [
    "time.sleep(3)\n",
    "\n",
    "pyautogui.screenshot(region=v.region_gameplay).save(Path(r\"D:\\Users\\Document D\\project_dofus\\dataset\\test\\test_1j.png\")) \n",
    "\n",
    "pyautogui.screenshot().save(Path(r\"D:\\Users\\Document D\\project_dofus\\dataset\\test\\test_1e.png\")) "
   ]
  },
  {
   "cell_type": "code",
   "execution_count": 22,
   "metadata": {},
   "outputs": [
    {
     "name": "stdout",
     "output_type": "stream",
     "text": [
      "0\n",
      "1\n",
      "2\n",
      "3\n",
      "4\n",
      "5\n",
      "6\n",
      "7\n",
      "8\n",
      "9\n",
      "Hello, m\n"
     ]
    }
   ],
   "source": [
    "x = input(\"Enter your name:\")\n",
    "for i in range(0,10):\n",
    "\tprint(i)\n",
    "print(\"Hello, \" + x)"
   ]
  }
 ],
 "metadata": {
  "kernelspec": {
   "display_name": "Python 3.10.4 64-bit",
   "language": "python",
   "name": "python3"
  },
  "language_info": {
   "codemirror_mode": {
    "name": "ipython",
    "version": 3
   },
   "file_extension": ".py",
   "mimetype": "text/x-python",
   "name": "python",
   "nbconvert_exporter": "python",
   "pygments_lexer": "ipython3",
   "version": "3.10.4"
  },
  "orig_nbformat": 4,
  "vscode": {
   "interpreter": {
    "hash": "933d9c7d56c0506746ad69f79a82128d360bf340a80f552a935e1f62fc722c1d"
   }
  }
 },
 "nbformat": 4,
 "nbformat_minor": 2
}
