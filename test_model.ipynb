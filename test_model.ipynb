{
 "cells": [
  {
   "cell_type": "code",
   "execution_count": 19,
   "metadata": {},
   "outputs": [],
   "source": [
    "import cv2\n",
    "import pytesseract\n",
    "import time\n",
    "import numpy as np\n",
    "from PIL import Image,ImageDraw\n",
    "import pyautogui\n",
    "import py.variable as v\n",
    "import py.map as m\n",
    "import py.dofus_action as da\n",
    "import socket\n",
    "import sys\n",
    "from pathlib import Path\n",
    "import models.predict as predict\n",
    "\n"
   ]
  },
  {
   "cell_type": "code",
   "execution_count": 20,
   "metadata": {},
   "outputs": [],
   "source": [
    "#model_all_r = \"models/model_r_800/model.pb\"\n",
    "#label_all_r = \"models/model_r_800/labels.txt\"\n",
    "\n",
    "#model_poisson = \"models/model_poisson/model.pb\"\n",
    "#label_poisson = \"models/model_poisson/labels.txt\"\n",
    "model_bois = \"models/model_bois_i3/model.pb\"\n",
    "label_bois = \"models/model_bois_i3/labels.txt\"\n",
    "model_poisson = \"models/model_poisson_i15/model.pb\"\n",
    "label_poisson = \"models/model_poisson_i15/labels.txt\"\n",
    "od_model_poisson = predict.load_model(MODEL_FILENAME = model_poisson,LABELS_FILENAME = label_poisson)\n",
    "od_model_bois = predict.load_model(MODEL_FILENAME = model_bois, LABELS_FILENAME = label_bois)"
   ]
  },
  {
   "cell_type": "code",
   "execution_count": 30,
   "metadata": {},
   "outputs": [],
   "source": [
    "image = Image.open(\"dataset/bois/bois_2194.png\") \n",
    " # detection des IA ressources\n",
    "predictions_bois = od_model_bois.predict_image(image)\n",
    "predictions_poisson = od_model_poisson.predict_image(image)\n",
    "        \n",
    "# liste des zones boxes des ressources\n",
    "boudingBoxes_poisson = da.list_predictions_boundingBox(predictions_poisson,0.3) # liste des zones boxes des ressources\n",
    "boudingBoxes_bois = da.list_predictions_boundingBox(predictions_bois,0.4)\n",
    "        \n",
    "        #save map for retrain  od_model\n",
    "da.save_map(image,\"bois\",predictions_bois)\n",
    "da.save_map(image,\"poisson\",predictions_poisson)\n",
    "        \n",
    "#concat all list boxes\n",
    "boudingBoxes = boudingBoxes_poisson + boudingBoxes_bois"
   ]
  },
  {
   "cell_type": "code",
   "execution_count": 32,
   "metadata": {},
   "outputs": [],
   "source": [
    "img = ImageDraw.Draw(image)\n",
    "w,h = image.size\n",
    "for boxes in boudingBoxes_bois : \n",
    "    x1,y1 = boxes[0] * w ,boxes[1] * h,\n",
    "    x2,y2 = x1 + boxes[2] * w , y1 + boxes[3] * h\n",
    "    img.rectangle([(x1,y1),(x2,y2)],  outline =\"red\")\n",
    "    x3,y3 = x1 + ((boxes[2] * w)/2) - 5 , y1 +((boxes[3] * h)/1.3) - 5\n",
    "    img.rectangle([(x3,y3),(x3+10,y3+10)],fill =\"#ffff33\",  outline =\"blue\")\n",
    "for boxes in boudingBoxes_poisson : \n",
    "    x1,y1 = boxes[0] * w ,boxes[1] * h,\n",
    "    x2,y2 = x1 + boxes[2] * w , y1 + boxes[3] * h\n",
    "    x3,y3 = x1 + ((boxes[2] * w)/2) - 5 , y1 +((boxes[3] * h)/2) - 5\n",
    "    img.rectangle([(x3,y3),(x3+10,y3+10)],fill =\"#800080\",  outline =\"green\")\n",
    "image.show()\n",
    "    "
   ]
  },
  {
   "cell_type": "code",
   "execution_count": 8,
   "metadata": {},
   "outputs": [],
   "source": [
    "img1 = ImageDraw.Draw(img)  \n",
    "img1.rectangle(shape, fill =\"# ffff33\", outline =\"red\")\n",
    "img.show()"
   ]
  },
  {
   "cell_type": "code",
   "execution_count": 9,
   "metadata": {},
   "outputs": [
    {
     "data": {
      "text/plain": [
       "True"
      ]
     },
     "execution_count": 9,
     "metadata": {},
     "output_type": "execute_result"
    }
   ],
   "source": [
    "data == data2"
   ]
  }
 ],
 "metadata": {
  "kernelspec": {
   "display_name": "Python 3.10.4 64-bit",
   "language": "python",
   "name": "python3"
  },
  "language_info": {
   "codemirror_mode": {
    "name": "ipython",
    "version": 3
   },
   "file_extension": ".py",
   "mimetype": "text/x-python",
   "name": "python",
   "nbconvert_exporter": "python",
   "pygments_lexer": "ipython3",
   "version": "3.10.4"
  },
  "orig_nbformat": 4,
  "vscode": {
   "interpreter": {
    "hash": "933d9c7d56c0506746ad69f79a82128d360bf340a80f552a935e1f62fc722c1d"
   }
  }
 },
 "nbformat": 4,
 "nbformat_minor": 2
}
