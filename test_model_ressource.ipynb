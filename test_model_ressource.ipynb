{
 "cells": [
  {
   "cell_type": "code",
   "execution_count": 1,
   "metadata": {},
   "outputs": [],
   "source": [
    "import cv2\n",
    "import pytesseract\n",
    "import time\n",
    "import numpy as np\n",
    "from PIL import Image,ImageDraw\n",
    "import pyautogui\n",
    "import py.variable as v\n",
    "import py.Map\n",
    "import py.dofus_action as da\n",
    "import socket\n",
    "import sys\n",
    "from pathlib import Path\n",
    "import models.predict as predict\n",
    "from scipy import ndimage \n"
   ]
  },
  {
   "cell_type": "code",
   "execution_count": 3,
   "metadata": {},
   "outputs": [],
   "source": [
    "#model_all_r = \"models/model_r_800/model.pb\"\n",
    "#label_all_r = \"models/model_r_800/labels.txt\"\n",
    "\n",
    "#model_poisson = \"models/model_poisson/model.pb\"\n",
    "#label_poisson = \"models/model_poisson/labels.txt\"\n",
    "model_bois = \"models/model_bois_i3/model.pb\"\n",
    "label_bois = \"models/model_bois_i3/labels.txt\"\n",
    "model_poisson = \"models/model_poisson_i15/model.pb\"\n",
    "label_poisson = \"models/model_poisson_i15/labels.txt\"\n",
    "model = \"models/model_all_i9/model.pb\"\n",
    "label = \"models/model_all_i9/labels.txt\"\n",
    "\n",
    "model_monstre9 = \"models/model_monster_i9/model.pb\"\n",
    "label_monstre9 = \"models/model_monster_i9/labels.txt\"\n",
    "model_monstre10 = \"models/model_monster_i10/model.pb\"\n",
    "label_monstre10 = \"models/model_monster_i10/labels.txt\"\n",
    "od_model_poisson = predict.load_model(MODEL_FILENAME = model_poisson,LABELS_FILENAME = label_poisson)\n",
    "od_model_bois = predict.load_model(MODEL_FILENAME = model_bois, LABELS_FILENAME = label_bois)\n",
    "od_model = predict.load_model(MODEL_FILENAME = model, LABELS_FILENAME = label)\n",
    "od_model_monstre9 = predict.load_model(MODEL_FILENAME = model_monstre9,LABELS_FILENAME = label_monstre9)\n",
    "od_model_monstre10 = predict.load_model(MODEL_FILENAME = model_monstre10, LABELS_FILENAME = label_monstre10)"
   ]
  },
  {
   "cell_type": "code",
   "execution_count": 24,
   "metadata": {},
   "outputs": [
    {
     "ename": "KeyboardInterrupt",
     "evalue": "",
     "output_type": "error",
     "traceback": [
      "\u001b[1;31m---------------------------------------------------------------------------\u001b[0m",
      "\u001b[1;31mKeyboardInterrupt\u001b[0m                         Traceback (most recent call last)",
      "\u001b[1;32md:\\Users\\Document D\\project_dofus\\my_bot\\test_model.ipynb Cellule 6\u001b[0m in \u001b[0;36m<cell line: 3>\u001b[1;34m()\u001b[0m\n\u001b[0;32m      <a href='vscode-notebook-cell:/d%3A/Users/Document%20D/project_dofus/my_bot/test_model.ipynb#W5sZmlsZQ%3D%3D?line=3'>4</a>\u001b[0m image \u001b[39m=\u001b[39m Image\u001b[39m.\u001b[39mopen(image_path)\n\u001b[0;32m      <a href='vscode-notebook-cell:/d%3A/Users/Document%20D/project_dofus/my_bot/test_model.ipynb#W5sZmlsZQ%3D%3D?line=4'>5</a>\u001b[0m predictions_monster \u001b[39m=\u001b[39m od_model_monstre10\u001b[39m.\u001b[39mpredict_image(image)\n\u001b[1;32m----> <a href='vscode-notebook-cell:/d%3A/Users/Document%20D/project_dofus/my_bot/test_model.ipynb#W5sZmlsZQ%3D%3D?line=5'>6</a>\u001b[0m predictions_ressource \u001b[39m=\u001b[39m od_model\u001b[39m.\u001b[39;49mpredict_image(image)\n\u001b[0;32m      <a href='vscode-notebook-cell:/d%3A/Users/Document%20D/project_dofus/my_bot/test_model.ipynb#W5sZmlsZQ%3D%3D?line=6'>7</a>\u001b[0m w,h \u001b[39m=\u001b[39m image\u001b[39m.\u001b[39msize\n\u001b[0;32m      <a href='vscode-notebook-cell:/d%3A/Users/Document%20D/project_dofus/my_bot/test_model.ipynb#W5sZmlsZQ%3D%3D?line=8'>9</a>\u001b[0m img \u001b[39m=\u001b[39m ImageDraw\u001b[39m.\u001b[39mDraw(image)\n",
      "File \u001b[1;32md:\\Users\\Document D\\project_dofus\\my_bot\\models\\object_detection.py:149\u001b[0m, in \u001b[0;36mObjectDetection.predict_image\u001b[1;34m(self, image)\u001b[0m\n\u001b[0;32m    147\u001b[0m \u001b[39mdef\u001b[39;00m \u001b[39mpredict_image\u001b[39m(\u001b[39mself\u001b[39m, image):\n\u001b[0;32m    148\u001b[0m     inputs \u001b[39m=\u001b[39m \u001b[39mself\u001b[39m\u001b[39m.\u001b[39mpreprocess(image)\n\u001b[1;32m--> 149\u001b[0m     prediction_outputs \u001b[39m=\u001b[39m \u001b[39mself\u001b[39;49m\u001b[39m.\u001b[39;49mpredict(inputs)\n\u001b[0;32m    150\u001b[0m     \u001b[39mreturn\u001b[39;00m \u001b[39mself\u001b[39m\u001b[39m.\u001b[39mpostprocess(prediction_outputs)\n",
      "File \u001b[1;32md:\\Users\\Document D\\project_dofus\\my_bot\\models\\predict.py:32\u001b[0m, in \u001b[0;36mTFObjectDetection.predict\u001b[1;34m(self, preprocessed_image)\u001b[0m\n\u001b[0;32m     30\u001b[0m \u001b[39mwith\u001b[39;00m tf\u001b[39m.\u001b[39mcompat\u001b[39m.\u001b[39mv1\u001b[39m.\u001b[39mSession(graph\u001b[39m=\u001b[39m\u001b[39mself\u001b[39m\u001b[39m.\u001b[39mgraph) \u001b[39mas\u001b[39;00m sess:\n\u001b[0;32m     31\u001b[0m     output_tensor \u001b[39m=\u001b[39m sess\u001b[39m.\u001b[39mgraph\u001b[39m.\u001b[39mget_tensor_by_name(\u001b[39m'\u001b[39m\u001b[39mmodel_outputs:0\u001b[39m\u001b[39m'\u001b[39m)\n\u001b[1;32m---> 32\u001b[0m     outputs \u001b[39m=\u001b[39m sess\u001b[39m.\u001b[39;49mrun(output_tensor, {\u001b[39m'\u001b[39;49m\u001b[39mPlaceholder:0\u001b[39;49m\u001b[39m'\u001b[39;49m: inputs[np\u001b[39m.\u001b[39;49mnewaxis, \u001b[39m.\u001b[39;49m\u001b[39m.\u001b[39;49m\u001b[39m.\u001b[39;49m]})\n\u001b[0;32m     33\u001b[0m     \u001b[39mreturn\u001b[39;00m outputs[\u001b[39m0\u001b[39m]\n",
      "File \u001b[1;32md:\\python3.10.4\\lib\\site-packages\\tensorflow\\python\\client\\session.py:968\u001b[0m, in \u001b[0;36mBaseSession.run\u001b[1;34m(self, fetches, feed_dict, options, run_metadata)\u001b[0m\n\u001b[0;32m    965\u001b[0m run_metadata_ptr \u001b[39m=\u001b[39m tf_session\u001b[39m.\u001b[39mTF_NewBuffer() \u001b[39mif\u001b[39;00m run_metadata \u001b[39melse\u001b[39;00m \u001b[39mNone\u001b[39;00m\n\u001b[0;32m    967\u001b[0m \u001b[39mtry\u001b[39;00m:\n\u001b[1;32m--> 968\u001b[0m   result \u001b[39m=\u001b[39m \u001b[39mself\u001b[39;49m\u001b[39m.\u001b[39;49m_run(\u001b[39mNone\u001b[39;49;00m, fetches, feed_dict, options_ptr,\n\u001b[0;32m    969\u001b[0m                      run_metadata_ptr)\n\u001b[0;32m    970\u001b[0m   \u001b[39mif\u001b[39;00m run_metadata:\n\u001b[0;32m    971\u001b[0m     proto_data \u001b[39m=\u001b[39m tf_session\u001b[39m.\u001b[39mTF_GetBuffer(run_metadata_ptr)\n",
      "File \u001b[1;32md:\\python3.10.4\\lib\\site-packages\\tensorflow\\python\\client\\session.py:1191\u001b[0m, in \u001b[0;36mBaseSession._run\u001b[1;34m(self, handle, fetches, feed_dict, options, run_metadata)\u001b[0m\n\u001b[0;32m   1188\u001b[0m \u001b[39m# We only want to really perform the run if fetches or targets are provided,\u001b[39;00m\n\u001b[0;32m   1189\u001b[0m \u001b[39m# or if the call is a partial run that specifies feeds.\u001b[39;00m\n\u001b[0;32m   1190\u001b[0m \u001b[39mif\u001b[39;00m final_fetches \u001b[39mor\u001b[39;00m final_targets \u001b[39mor\u001b[39;00m (handle \u001b[39mand\u001b[39;00m feed_dict_tensor):\n\u001b[1;32m-> 1191\u001b[0m   results \u001b[39m=\u001b[39m \u001b[39mself\u001b[39;49m\u001b[39m.\u001b[39;49m_do_run(handle, final_targets, final_fetches,\n\u001b[0;32m   1192\u001b[0m                          feed_dict_tensor, options, run_metadata)\n\u001b[0;32m   1193\u001b[0m \u001b[39melse\u001b[39;00m:\n\u001b[0;32m   1194\u001b[0m   results \u001b[39m=\u001b[39m []\n",
      "File \u001b[1;32md:\\python3.10.4\\lib\\site-packages\\tensorflow\\python\\client\\session.py:1371\u001b[0m, in \u001b[0;36mBaseSession._do_run\u001b[1;34m(self, handle, target_list, fetch_list, feed_dict, options, run_metadata)\u001b[0m\n\u001b[0;32m   1368\u001b[0m   \u001b[39mreturn\u001b[39;00m \u001b[39mself\u001b[39m\u001b[39m.\u001b[39m_call_tf_sessionprun(handle, feed_dict, fetch_list)\n\u001b[0;32m   1370\u001b[0m \u001b[39mif\u001b[39;00m handle \u001b[39mis\u001b[39;00m \u001b[39mNone\u001b[39;00m:\n\u001b[1;32m-> 1371\u001b[0m   \u001b[39mreturn\u001b[39;00m \u001b[39mself\u001b[39;49m\u001b[39m.\u001b[39;49m_do_call(_run_fn, feeds, fetches, targets, options,\n\u001b[0;32m   1372\u001b[0m                        run_metadata)\n\u001b[0;32m   1373\u001b[0m \u001b[39melse\u001b[39;00m:\n\u001b[0;32m   1374\u001b[0m   \u001b[39mreturn\u001b[39;00m \u001b[39mself\u001b[39m\u001b[39m.\u001b[39m_do_call(_prun_fn, handle, feeds, fetches)\n",
      "File \u001b[1;32md:\\python3.10.4\\lib\\site-packages\\tensorflow\\python\\client\\session.py:1378\u001b[0m, in \u001b[0;36mBaseSession._do_call\u001b[1;34m(self, fn, *args)\u001b[0m\n\u001b[0;32m   1376\u001b[0m \u001b[39mdef\u001b[39;00m \u001b[39m_do_call\u001b[39m(\u001b[39mself\u001b[39m, fn, \u001b[39m*\u001b[39margs):\n\u001b[0;32m   1377\u001b[0m   \u001b[39mtry\u001b[39;00m:\n\u001b[1;32m-> 1378\u001b[0m     \u001b[39mreturn\u001b[39;00m fn(\u001b[39m*\u001b[39;49margs)\n\u001b[0;32m   1379\u001b[0m   \u001b[39mexcept\u001b[39;00m errors\u001b[39m.\u001b[39mOpError \u001b[39mas\u001b[39;00m e:\n\u001b[0;32m   1380\u001b[0m     message \u001b[39m=\u001b[39m compat\u001b[39m.\u001b[39mas_text(e\u001b[39m.\u001b[39mmessage)\n",
      "File \u001b[1;32md:\\python3.10.4\\lib\\site-packages\\tensorflow\\python\\client\\session.py:1361\u001b[0m, in \u001b[0;36mBaseSession._do_run.<locals>._run_fn\u001b[1;34m(feed_dict, fetch_list, target_list, options, run_metadata)\u001b[0m\n\u001b[0;32m   1358\u001b[0m \u001b[39mdef\u001b[39;00m \u001b[39m_run_fn\u001b[39m(feed_dict, fetch_list, target_list, options, run_metadata):\n\u001b[0;32m   1359\u001b[0m   \u001b[39m# Ensure any changes to the graph are reflected in the runtime.\u001b[39;00m\n\u001b[0;32m   1360\u001b[0m   \u001b[39mself\u001b[39m\u001b[39m.\u001b[39m_extend_graph()\n\u001b[1;32m-> 1361\u001b[0m   \u001b[39mreturn\u001b[39;00m \u001b[39mself\u001b[39;49m\u001b[39m.\u001b[39;49m_call_tf_sessionrun(options, feed_dict, fetch_list,\n\u001b[0;32m   1362\u001b[0m                                   target_list, run_metadata)\n",
      "File \u001b[1;32md:\\python3.10.4\\lib\\site-packages\\tensorflow\\python\\client\\session.py:1454\u001b[0m, in \u001b[0;36mBaseSession._call_tf_sessionrun\u001b[1;34m(self, options, feed_dict, fetch_list, target_list, run_metadata)\u001b[0m\n\u001b[0;32m   1452\u001b[0m \u001b[39mdef\u001b[39;00m \u001b[39m_call_tf_sessionrun\u001b[39m(\u001b[39mself\u001b[39m, options, feed_dict, fetch_list, target_list,\n\u001b[0;32m   1453\u001b[0m                         run_metadata):\n\u001b[1;32m-> 1454\u001b[0m   \u001b[39mreturn\u001b[39;00m tf_session\u001b[39m.\u001b[39;49mTF_SessionRun_wrapper(\u001b[39mself\u001b[39;49m\u001b[39m.\u001b[39;49m_session, options, feed_dict,\n\u001b[0;32m   1455\u001b[0m                                           fetch_list, target_list,\n\u001b[0;32m   1456\u001b[0m                                           run_metadata)\n",
      "\u001b[1;31mKeyboardInterrupt\u001b[0m: "
     ]
    }
   ],
   "source": [
    "#image = Image.open(Path(r\"D:\\Users\\Document D\\project_dofus\\dataset\\test\\test_1e.png\")) \n",
    "path_test_dataset = Path(r\"D:\\Users\\Document D\\project_dofus\\dataset\\test\")\n",
    "for image_path in Path(path_test_dataset).glob(\"*.png\") :\n",
    "    image = Image.open(image_path)\n",
    "    predictions_monster = od_model_monstre10.predict_image(image)\n",
    "    predictions_ressource = od_model.predict_image(image)\n",
    "    w,h = image.size\n",
    "\n",
    "    img = ImageDraw.Draw(image)\n",
    "    boudingBoxes_monster = [x[\"boundingBox\"] for x in predictions_ressource if x[\"probability\"]>0.3]\n",
    "    for boxes in boudingBoxes_monster : \n",
    "        x1,y1 = boxes[0] * w ,boxes[1] * h,\n",
    "        x2,y2 = x1 + boxes[2] * w , y1 + boxes[3] * h\n",
    "        img.rectangle([(x1,y1),(x2,y2)],  outline =\"blue\")\n",
    "        \n",
    "    boudingBoxes_monster = [x[\"boundingBox\"] for x in predictions_monster if x[\"probability\"]>0.4]\n",
    "    for boxes in boudingBoxes_monster : \n",
    "        x1,y1 = boxes[0] * w ,boxes[1] * h,\n",
    "        x2,y2 = x1 + boxes[2] * w , y1 + boxes[3] * h\n",
    "        img.rectangle([(x1,y1),(x2,y2)],  outline =\"red\")\n",
    "    \n",
    "    input(\"attendre\")\n",
    "    image.show()"
   ]
  }
 ],
 "metadata": {
  "kernelspec": {
   "display_name": "Python 3.10.4 64-bit",
   "language": "python",
   "name": "python3"
  },
  "language_info": {
   "codemirror_mode": {
    "name": "ipython",
    "version": 3
   },
   "file_extension": ".py",
   "mimetype": "text/x-python",
   "name": "python",
   "nbconvert_exporter": "python",
   "pygments_lexer": "ipython3",
   "version": "3.10.4 (tags/v3.10.4:9d38120, Mar 23 2022, 23:13:41) [MSC v.1929 64 bit (AMD64)]"
  },
  "orig_nbformat": 4,
  "vscode": {
   "interpreter": {
    "hash": "933d9c7d56c0506746ad69f79a82128d360bf340a80f552a935e1f62fc722c1d"
   }
  }
 },
 "nbformat": 4,
 "nbformat_minor": 2
}
