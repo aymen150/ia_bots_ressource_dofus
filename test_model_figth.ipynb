{
 "cells": [
  {
   "cell_type": "code",
   "execution_count": 1,
   "metadata": {},
   "outputs": [],
   "source": [
    "import cv2\n",
    "import pytesseract\n",
    "import time\n",
    "import numpy as np\n",
    "from PIL import Image,ImageDraw\n",
    "import pyautogui\n",
    "import py.variable as v\n",
    "import py.Map as m\n",
    "import py.dofus_action as da\n",
    "import socket\n",
    "import sys\n",
    "from pathlib import Path\n",
    "import models.predict as predict\n",
    "from scipy import ndimage \n",
    "import win32api\n",
    "import random as rand"
   ]
  },
  {
   "cell_type": "code",
   "execution_count": 1,
   "metadata": {},
   "outputs": [
    {
     "name": "stdout",
     "output_type": "stream",
     "text": [
      "1398 , 235\n"
     ]
    }
   ],
   "source": [
    "import win32api\n",
    "import time\n",
    "import pyautogui\n",
    "import jaro\n",
    "\n",
    "time.sleep(3)\n",
    "\n",
    "def append_write(fichier, text) :\n",
    "    with open(fichier, 'a') as f :\n",
    "        f.write(text)\n",
    "\n",
    "def get_click():\n",
    "    while True :\n",
    "        x,y = pyautogui.position()\n",
    "        if win32api.GetKeyState(0x01)<0 :\n",
    "            return x,y\n",
    "x,y = get_click()\n",
    "print(x,\",\",y)"
   ]
  },
  {
   "cell_type": "code",
   "execution_count": 10,
   "metadata": {},
   "outputs": [
    {
     "name": "stdout",
     "output_type": "stream",
     "text": [
      "1\n"
     ]
    }
   ],
   "source": [
    "from random import randint\n",
    "\n",
    "print(randint(0,2))"
   ]
  },
  {
   "cell_type": "code",
   "execution_count": 2,
   "metadata": {},
   "outputs": [],
   "source": [
    "dep_droite_2pm = (85,0)\n",
    "dep_gauche_2pm = (-85,0)\n",
    "dep_haut_2pm = (0,-45)\n",
    "dep_bas_2pm = (0,45)\n",
    "\n",
    "#/>\n",
    "dep_haut_1pm = (45,-25)\n",
    "dep_droite_1pm = (40,20)\n",
    "dep_bas_1pm = (-45,25)\n",
    "dep_gauche_1pm = (-40,-20)\n",
    "model_fight = \"models/model_fight_i3/model.pb\"\n",
    "label_fight = \"models/model_fight_i3/labels.txt\"\n",
    "od_model_fight = predict.load_model(MODEL_FILENAME = model_fight,LABELS_FILENAME = label_fight)\n"
   ]
  },
  {
   "cell_type": "code",
   "execution_count": 38,
   "metadata": {},
   "outputs": [],
   "source": [
    "#image = Image.open(Path(r\"D:\\Users\\Document D\\project_dofus\\dataset\\test\\test_1e.png\")) \n",
    "path_test_dataset = Path(r\"D:\\Users\\Document D\\project_dofus\\dataset\\fight\")\n",
    "for image_path in Path(path_test_dataset).glob(\"*.png\") :\n",
    "    image = Image.open(image_path)\n",
    "    predictions_fight = od_model_fight.predict_image(image)\n",
    "    prediction_allie = [x for x in predictions_fight if x[\"tagName\"] == \"allie\"]\n",
    "    prediction_ennemi = [x for x in predictions_fight if x[\"tagName\"] == \"ennemi\"]\n",
    "    w,h = image.size\n",
    "\n",
    "    img = ImageDraw.Draw(image)\n",
    "    boudingBoxes_monster = [x[\"boundingBox\"] for x in prediction_allie if x[\"probability\"]>0.4]\n",
    "    for boxes in boudingBoxes_monster : \n",
    "        x1,y1 = boxes[0] * w ,boxes[1] * h,\n",
    "        x2,y2 = x1 + boxes[2] * w , y1 + boxes[3] * h\n",
    "        img.rectangle([(x1,y1),(x2,y2)],  outline =\"blue\")\n",
    "        \n",
    "    boudingBoxes_monster = [x[\"boundingBox\"] for x in prediction_ennemi if x[\"probability\"]>0.4]\n",
    "    for boxes in boudingBoxes_monster : \n",
    "        x1,y1 = boxes[0] * w ,boxes[1] * h,\n",
    "        x2,y2 = x1 + boxes[2] * w , y1 + boxes[3] * h\n",
    "        img.rectangle([(x1,y1),(x2,y2)],  outline =\"red\")\n",
    "    \n",
    "    input(\"attendre\")\n",
    "    image.show()"
   ]
  },
  {
   "cell_type": "code",
   "execution_count": null,
   "metadata": {},
   "outputs": [
    {
     "name": "stdout",
     "output_type": "stream",
     "text": [
      "311.02736214037503\n",
      "SE\n",
      "NE\n"
     ]
    }
   ],
   "source": [
    "#test deplacement perso correctement configuré in fight\n",
    "time.sleep(3)\n",
    "image = pyautogui.screenshot(region=v.region_gameplay)\n",
    "w,h = image.size\n",
    "predictions = od_model_fight.predict_image(image)\n",
    "\n",
    "list_ennemis = [da.list_click(x[\"boundingBox\"],w, h,1) for x in predictions if  ((x[\"tagName\"] == \"ennemi\") and (x[\"probability\"]) > 0.5)] \n",
    "list_allie = [da.list_click(x[\"boundingBox\"],w, h,1) for x in predictions if  ((x[\"tagName\"] == \"allie\") and (x[\"probability\"]) > 0.1)] \n",
    "#print(list_ennemis, list_allie)\n",
    "mon_perso = list_allie[0]\n",
    "plus_proche_ennemi = da.minDistance(mon_perso, list_ennemis)\n",
    "da.dofus_click(plus_proche_ennemi[0],plus_proche_ennemi[1], 1,0)\n",
    "#print(mon_perso,plus_proche_ennemi)\n",
    "\n",
    "print(da.Distance(mon_perso,plus_proche_ennemi))\n",
    "dep = da.deplacer_mon_perso(mon_perso,plus_proche_ennemi,5)\n",
    "da.dofus_click(dep[0],dep[1],1,0)"
   ]
  },
  {
   "cell_type": "code",
   "execution_count": 7,
   "metadata": {},
   "outputs": [
    {
     "name": "stdout",
     "output_type": "stream",
     "text": [
      "debut combat\n",
      "NE\n",
      "N\n",
      "NO\n",
      "NE\n",
      "NO\n",
      "NO\n",
      "NO\n",
      "NO\n",
      "NO\n",
      "fin du combat\n"
     ]
    },
    {
     "ename": "KeyboardInterrupt",
     "evalue": "",
     "output_type": "error",
     "traceback": [
      "\u001b[1;31m---------------------------------------------------------------------------\u001b[0m",
      "\u001b[1;31mKeyboardInterrupt\u001b[0m                         Traceback (most recent call last)",
      "\u001b[1;32md:\\Users\\Document D\\project_dofus\\my_bot\\test_model_figth.ipynb Cellule 6\u001b[0m in \u001b[0;36m<cell line: 1>\u001b[1;34m()\u001b[0m\n\u001b[0;32m      <a href='vscode-notebook-cell:/d%3A/Users/Document%20D/project_dofus/my_bot/test_model_figth.ipynb#W6sZmlsZQ%3D%3D?line=0'>1</a>\u001b[0m \u001b[39mwhile\u001b[39;00m \u001b[39mTrue\u001b[39;00m :\n\u001b[1;32m----> <a href='vscode-notebook-cell:/d%3A/Users/Document%20D/project_dofus/my_bot/test_model_figth.ipynb#W6sZmlsZQ%3D%3D?line=1'>2</a>\u001b[0m     time\u001b[39m.\u001b[39;49msleep(\u001b[39m1\u001b[39;49m)\n\u001b[0;32m      <a href='vscode-notebook-cell:/d%3A/Users/Document%20D/project_dofus/my_bot/test_model_figth.ipynb#W6sZmlsZQ%3D%3D?line=2'>3</a>\u001b[0m     \u001b[39mif\u001b[39;00m da\u001b[39m.\u001b[39mcombat_debut() :\n\u001b[0;32m      <a href='vscode-notebook-cell:/d%3A/Users/Document%20D/project_dofus/my_bot/test_model_figth.ipynb#W6sZmlsZQ%3D%3D?line=3'>4</a>\u001b[0m                 \u001b[39mprint\u001b[39m(\u001b[39m\"\u001b[39m\u001b[39mdebut combat\u001b[39m\u001b[39m\"\u001b[39m)\n",
      "\u001b[1;31mKeyboardInterrupt\u001b[0m: "
     ]
    }
   ],
   "source": [
    "# test fight\n",
    "while True :\n",
    "    time.sleep(1)\n",
    "    if da.combat_debut() :\n",
    "                print(\"debut combat\")\n",
    "                time.sleep(0.5)\n",
    "                pyautogui.press(\"f1\")\n",
    "                while da.combat_fini() == False :\n",
    "                    if da.my_tourn() == True :\n",
    "                        image_fight = pyautogui.screenshot(region=v.region_gameplay)\n",
    "                        w,h = image_fight.size\n",
    "                        predictions_fight = od_model_fight.predict_image(image_fight)\n",
    "                        da.combat(predictions_fight,w,h)\n",
    "                time.sleep(3)\n",
    "                da.dofus_press(\"enter\",3)\n",
    "                print(\"fin du combat\")\n",
    "                "
   ]
  },
  {
   "cell_type": "code",
   "execution_count": null,
   "metadata": {},
   "outputs": [],
   "source": [
    "import win32api\n",
    "import time\n",
    "\n",
    "time.sleep(3)\n",
    "while True :\n",
    "        x,y = pyautogui.position()\n",
    "        if win32api.GetKeyState(0x01)<0 :\n",
    "            print(x,',',y)\n",
    "            time.sleep(0.2)\n"
   ]
  }
 ],
 "metadata": {
  "kernelspec": {
   "display_name": "Python 3",
   "language": "python",
   "name": "python3"
  },
  "language_info": {
   "codemirror_mode": {
    "name": "ipython",
    "version": 3
   },
   "file_extension": ".py",
   "mimetype": "text/x-python",
   "name": "python",
   "nbconvert_exporter": "python",
   "pygments_lexer": "ipython3",
   "version": "3.10.4"
  },
  "orig_nbformat": 4,
  "vscode": {
   "interpreter": {
    "hash": "933d9c7d56c0506746ad69f79a82128d360bf340a80f552a935e1f62fc722c1d"
   }
  }
 },
 "nbformat": 4,
 "nbformat_minor": 2
}
