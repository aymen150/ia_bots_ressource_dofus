{
 "cells": [
  {
   "cell_type": "code",
   "execution_count": 3,
   "metadata": {},
   "outputs": [],
   "source": [
    "import cv2\n",
    "import pytesseract\n",
    "import time\n",
    "import numpy as np\n",
    "from PIL import Image,ImageDraw\n",
    "import pyautogui\n",
    "import py.variable as v\n",
    "import py.map as m\n",
    "import py.dofus_action as da\n",
    "import socket\n",
    "import sys\n",
    "from pathlib import Path\n",
    "import models.predict as predict\n",
    "from scipy import ndimage \n",
    "import win32api"
   ]
  },
  {
   "cell_type": "code",
   "execution_count": null,
   "metadata": {},
   "outputs": [],
   "source": [
    "time.sleep(3)\n",
    "while True :\n",
    "    x,y = pyautogui.position()\n",
    "    if win32api.GetKeyState(0x01)<0 :\n",
    "        print(\"x : \", x,\"y :\", y)\n",
    "        time.sleep(0.3)\n"
   ]
  },
  {
   "cell_type": "code",
   "execution_count": 15,
   "metadata": {},
   "outputs": [],
   "source": [
    "dep_droite_2pm = (85,0)\n",
    "dep_gauche_2pm = (-85,0)\n",
    "dep_haut_2pm = (0,-45)\n",
    "dep_bas_2pm = (0,45)\n",
    "\n",
    "#/>\n",
    "dep_haut_1pm = (45,-25)\n",
    "dep_droite_1pm = (40,20)\n",
    "dep_bas_1pm = (-45,25)\n",
    "dep_gauche_1pm = (-40,-20)\n",
    "model_fight = \"models/model_fight_i3/model.pb\"\n",
    "label_fight = \"models/model_fight_i3/labels.txt\"\n",
    "od_model_fight = predict.load_model(MODEL_FILENAME = model_fight,LABELS_FILENAME = label_fight)\n"
   ]
  },
  {
   "cell_type": "code",
   "execution_count": 36,
   "metadata": {},
   "outputs": [
    {
     "name": "stdout",
     "output_type": "stream",
     "text": [
      "[(1111.5, 328.6)] [(975.4, 395.7)]\n",
      "(975.4, 395.7) (1111.5, 328.6)\n",
      "NE\n"
     ]
    },
    {
     "data": {
      "text/plain": [
       "151.74195201064208"
      ]
     },
     "execution_count": 36,
     "metadata": {},
     "output_type": "execute_result"
    }
   ],
   "source": [
    "time.sleep(3)\n",
    "image = pyautogui.screenshot(region=v.region_gameplay)\n",
    "w,h = image.size\n",
    "predictions = od_model_fight.predict_image(image)\n",
    "\n",
    "list_ennemis = [da.list_click(x[\"boundingBox\"],w, h,1) for x in predictions if  ((x[\"tagName\"] == \"ennemi\") and (x[\"probability\"]) > 0.5)] \n",
    "list_allie = [da.list_click(x[\"boundingBox\"],w, h,1) for x in predictions if  ((x[\"tagName\"] == \"allie\") and (x[\"probability\"]) > 0.1)] \n",
    "print(list_ennemis, list_allie)\n",
    "mon_perso = list_allie[0]\n",
    "plus_proche_ennemi = da.minDistance(mon_perso, list_ennemis)\n",
    "da.dofus_click(plus_proche_ennemi[0],plus_proche_ennemi[1], 1,0)\n",
    "print(mon_perso,plus_proche_ennemi)\n",
    "deplacer_mon_perso(mon_perso,plus_proche_ennemi)\n",
    "da.Distance(mon_perso,plus_proche_ennemi)"
   ]
  },
  {
   "cell_type": "code",
   "execution_count": null,
   "metadata": {},
   "outputs": [],
   "source": [
    "dep_O_2pm = (85,0)\n",
    "dep_E_2pm = (-85,0)\n",
    "dep_N_2pm = (0,-45)\n",
    "dep_S_2pm = (0,45)\n",
    "\n",
    "dep_NE_2pm = (90,-50)\n",
    "dep_SE_2pm = (80,40)\n",
    "dep_SO_2pm = (-90,50)\n",
    "dep_NO_2pm = (-80,-40)\n",
    "#/>\n",
    "dep_NE_1pm = (45,-25)\n",
    "dep_SE_1pm = (40,20)\n",
    "dep_SO_1pm = (-45,25)\n",
    "dep_NO_1pm = (-40,-20)\n",
    "\n",
    "def deplacer_mon_perso(perso, ennemi, pm) :\n",
    "    if da.Distance(mon_perso,plus_proche_ennemi) < 160 :\n",
    "        print(\"ennemi a moins de 4 po\")\n",
    "        return None\n",
    "    if pm == 0 :\n",
    "        return perso\n",
    "    while pm >= 2 : \n",
    "        direction = direction_ennemi(perso, ennemi)\n",
    "        match direction :\n",
    "            case \"N\" : \n",
    "                perso = add_deplacement(perso, dep_N_2pm)\n",
    "                pm -= 2\n",
    "            case \"O\" :\n",
    "                perso = add_deplacement(perso, dep_O_2pm)\n",
    "                pm -= 2\n",
    "            case \"S\" :\n",
    "                perso = add_deplacement(perso, dep_S_2pm)\n",
    "            case \"E\" :\n",
    "                perso = add_deplacement(perso, dep_E_2pm)\n",
    "                pm -= 2\n",
    "            case \"NE\" :\n",
    "                perso = add_deplacement(perso, dep_NE_2pm)\n",
    "                pm -= 2\n",
    "            case \"NO\" :\n",
    "                perso = add_deplacement(perso, dep_NO_2pm)\n",
    "                pm -= 2\n",
    "            case \"SO\" :\n",
    "                perso = add_deplacement(perso, dep_SO_2pm)\n",
    "                pm -= 2\n",
    "            case \"SE\" :\n",
    "                perso = add_deplacement(perso, dep_SE_2pm)\n",
    "                pm -= 2\n",
    "    return perso"
   ]
  },
  {
   "cell_type": "code",
   "execution_count": 37,
   "metadata": {},
   "outputs": [],
   "source": [
    "def add_deplacement(perso, deplacement) :\n",
    "    perso_x , perso_y = perso\n",
    "    deplacement_x , deplacement_y = deplacement\n",
    "    return ((float(perso) + float(deplacement_x)), (float(perso_y) + float(deplacement_y)))\n",
    "            \n",
    "def direction_ennemi(mon_perso,ennemi) : \n",
    "    perso_x , perso_y  = [float(pos) for pos in mon_perso]\n",
    "    ennemi_x ,ennemi_y = [ float(dep) for dep in ennemi]\n",
    "    \n",
    "    if ((perso_y - 7) <= ennemi_y ) and (ennemi_y <= (perso_y +7)) :\n",
    "        if  ennemi_x < perso_x :\n",
    "            print(\"O\")\n",
    "            return \"O\"\n",
    "        else :\n",
    "            print(\"E\")\n",
    "            return \"E\"\n",
    "    elif ((perso_x - 7 ) <= ennemi_x) and ( ennemi_x <= (perso_x+7)) :\n",
    "        if ennemi_y < perso_y:\n",
    "            print(\"N\")\n",
    "            return \"N\"\n",
    "        else :\n",
    "            print(\"S\")\n",
    "            return \"S\"\n",
    "    elif (ennemi_y <= (perso_y - 7)) and (ennemi_x <= (perso_x -7)) :\n",
    "        print(\"NO\")\n",
    "        return \"NO\"\n",
    "    elif (ennemi_y >= (perso_y + 7)) and (ennemi_x <= (perso_x -7)) :\n",
    "        print(\"SO\")\n",
    "        return \"SO\"\n",
    "    elif (ennemi_y <= (perso_y - 7)) and (ennemi_x >= (perso_x +7)) :\n",
    "        print(\"NE\")\n",
    "        return \"NE\"\n",
    "    elif (ennemi_y >= (perso_y + 7)) and (ennemi_x >= (perso_x +7)) :\n",
    "        print(\"SE\")\n",
    "        return \"SE\""
   ]
  }
 ],
 "metadata": {
  "kernelspec": {
   "display_name": "Python 3",
   "language": "python",
   "name": "python3"
  },
  "language_info": {
   "codemirror_mode": {
    "name": "ipython",
    "version": 3
   },
   "file_extension": ".py",
   "mimetype": "text/x-python",
   "name": "python",
   "nbconvert_exporter": "python",
   "pygments_lexer": "ipython3",
   "version": "3.10.4"
  },
  "orig_nbformat": 4,
  "vscode": {
   "interpreter": {
    "hash": "933d9c7d56c0506746ad69f79a82128d360bf340a80f552a935e1f62fc722c1d"
   }
  }
 },
 "nbformat": 4,
 "nbformat_minor": 2
}
